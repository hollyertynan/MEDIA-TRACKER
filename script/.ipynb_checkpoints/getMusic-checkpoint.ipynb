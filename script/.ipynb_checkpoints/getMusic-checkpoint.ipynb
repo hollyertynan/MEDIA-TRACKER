{
 "cells": [
  {
   "cell_type": "code",
   "execution_count": 1,
   "id": "d0c2a270",
   "metadata": {},
   "outputs": [
    {
     "ename": "FileExistsError",
     "evalue": "[WinError 183] Cannot create a file when that file already exists: 'albums'",
     "output_type": "error",
     "traceback": [
      "\u001b[1;31m---------------------------------------------------------------------------\u001b[0m",
      "\u001b[1;31mFileExistsError\u001b[0m                           Traceback (most recent call last)",
      "\u001b[1;32m~\\AppData\\Local\\Temp/ipykernel_15672/3243641383.py\u001b[0m in \u001b[0;36m<module>\u001b[1;34m\u001b[0m\n\u001b[0;32m      1\u001b[0m \u001b[1;32mimport\u001b[0m \u001b[0mrequests\u001b[0m\u001b[1;33m\u001b[0m\u001b[1;33m\u001b[0m\u001b[0m\n\u001b[0;32m      2\u001b[0m \u001b[1;32mimport\u001b[0m \u001b[0mos\u001b[0m\u001b[1;33m\u001b[0m\u001b[1;33m\u001b[0m\u001b[0m\n\u001b[1;32m----> 3\u001b[1;33m \u001b[0mos\u001b[0m\u001b[1;33m.\u001b[0m\u001b[0mmkdir\u001b[0m\u001b[1;33m(\u001b[0m\u001b[1;34m\"albums\"\u001b[0m\u001b[1;33m)\u001b[0m\u001b[1;33m\u001b[0m\u001b[1;33m\u001b[0m\u001b[0m\n\u001b[0m\u001b[0;32m      4\u001b[0m \u001b[0mres\u001b[0m \u001b[1;33m=\u001b[0m \u001b[0mrequests\u001b[0m\u001b[1;33m.\u001b[0m\u001b[0mget\u001b[0m\u001b[1;33m(\u001b[0m\u001b[1;34m\"http://www.popvortex.com/music/charts/top-100-albums.php\"\u001b[0m\u001b[1;33m)\u001b[0m\u001b[1;33m\u001b[0m\u001b[1;33m\u001b[0m\u001b[0m\n",
      "\u001b[1;31mFileExistsError\u001b[0m: [WinError 183] Cannot create a file when that file already exists: 'albums'"
     ]
    }
   ],
   "source": [
    "import requests\n",
    "import os\n",
    "res = requests.get(\"http://www.popvortex.com/music/charts/top-100-albums.php\")"
   ]
  },
  {
   "cell_type": "code",
   "execution_count": null,
   "id": "aaaceb2b",
   "metadata": {},
   "outputs": [],
   "source": [
    "from bs4 import BeautifulSoup\n",
    "\n",
    "soup = BeautifulSoup(res.text, 'html.parser')"
   ]
  },
  {
   "cell_type": "code",
   "execution_count": null,
   "id": "aba1db01",
   "metadata": {},
   "outputs": [],
   "source": [
    "images = soup.select(\".cover-art img\")\n",
    "print(len(images))\n",
    "print(images)"
   ]
  },
  {
   "cell_type": "code",
   "execution_count": null,
   "id": "1cf4ffc3",
   "metadata": {},
   "outputs": [],
   "source": [
    "image_number = 0\n",
    "for i in images:\n",
    "    link = i['data-pin-media']\n",
    "    print(link)\n",
    "        \n",
    "    image_link = requests.get(link)\n",
    "    \n",
    "    f = open('albums/myImage' + str(image_number) + '.png', 'wb')\n",
    "    image_number = image_number + 1\n",
    "    f.write(image_link.content)\n",
    "    f.close()\n",
    "    if image_number > 9:\n",
    "        break\n",
    "\n",
    "print(str(image_number) + ' out of ' + str(len(images)) + ' were saved successfully')"
   ]
  }
 ],
 "metadata": {
  "kernelspec": {
   "display_name": "Python 3 (ipykernel)",
   "language": "python",
   "name": "python3"
  },
  "language_info": {
   "codemirror_mode": {
    "name": "ipython",
    "version": 3
   },
   "file_extension": ".py",
   "mimetype": "text/x-python",
   "name": "python",
   "nbconvert_exporter": "python",
   "pygments_lexer": "ipython3",
   "version": "3.9.7"
  }
 },
 "nbformat": 4,
 "nbformat_minor": 5
}
